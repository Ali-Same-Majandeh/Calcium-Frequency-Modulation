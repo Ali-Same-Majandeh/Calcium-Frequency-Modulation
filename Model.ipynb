{
 "cells": [
  {
   "cell_type": "markdown",
   "id": "e4c63742-72ac-47cc-8d69-edf8dc169e28",
   "metadata": {},
   "source": [
    "# Import Packages"
   ]
  },
  {
   "cell_type": "code",
   "execution_count": 2,
   "id": "2d11dcd1-180e-4c75-9c2c-357109b5a4c2",
   "metadata": {},
   "outputs": [],
   "source": [
    "import numpy as np\n",
    "from scipy.integrate import solve_ivp\n",
    "import matplotlib.pyplot as plt"
   ]
  },
  {
   "cell_type": "markdown",
   "id": "b86f409c-9b8c-442d-9ae0-555c9d1e39ff",
   "metadata": {},
   "source": [
    "# Math Functions"
   ]
  },
  {
   "cell_type": "code",
   "execution_count": 3,
   "id": "9938d6ae-92c3-45c5-bc9d-227fd32e49aa",
   "metadata": {},
   "outputs": [],
   "source": [
    "import re\n",
    "\n",
    "\n",
    "def pw(b, p):\n",
    "    return np.power(b, p)\n",
    "\n",
    "def exp(b):\n",
    "    return np.exp(b)\n",
    "\n",
    "def sqrt(b):\n",
    "    return np.sqrt(b)\n",
    "\n",
    "def pi():\n",
    "    return np.pi\n",
    "\n",
    "def ln(a):\n",
    "    return np.log(a)"
   ]
  },
  {
   "cell_type": "markdown",
   "id": "e7a2577f-fca5-4662-a1a3-2e22f08bcbc6",
   "metadata": {},
   "source": [
    "# Parameters"
   ]
  },
  {
   "cell_type": "code",
   "execution_count": 4,
   "id": "2567888c-f7e8-4f33-ad64-d1e59efe06f2",
   "metadata": {},
   "outputs": [],
   "source": [
    "# Geometrical Parameters\n",
    "w_MAM= 0.02\n",
    "h_MAM= 0.1\n",
    "L_MAM= 0.2\n",
    "R_Mit= 0.3\n",
    "beta= 5.5\n",
    "epsilon= 1.5\n",
    "a= 0.02\n",
    "\n",
    "# SuperOxide Parameters\n",
    "K_SODc= 0.001\n",
    "k_SODc= 0.01\n",
    "K_SODm= 0.001\n",
    "k_SODm= 0.005\n",
    "D_S= 10\n",
    "k_shunt= 0.32\n",
    "k_IMAC= 0.5\n",
    "h_IMAC= 3\n",
    "K_IMAC= 0.004\n",
    "k_si_S= 3100\n",
    "k_si_U= 19.2\n",
    "k_si_IMAC= 5.5\n",
    "\n",
    "# Calcium Parameters\n",
    "IP3= 0.0351\n",
    "W_IP3R= 7e3\n",
    "T_max= 35\n",
    "K_P_RED= 0.2\n",
    "D_Ca= 5\n",
    "D_Ca_e= 55\n",
    "k_f= 10\n",
    "V_SERCA= 1.87\n",
    "K_SERCA= 0.2\n",
    "K_bar= 0.000019\n",
    "k_B= 0.4\n",
    "K_C= 0.2\n",
    "K_h= 0.08\n",
    "K_T= 0.1\n",
    "f_m= 0.005\n",
    "V_MCU= 0.0056e-3\n",
    "K_MCU= 50\n",
    "P1= 0.1\n",
    "W_MCU= 1e5\n",
    "V_NCX= 6.4\n",
    "K_NCX= 30\n",
    "P2= 0.016\n",
    "V_OUT= 0.286\n",
    "K_OUT= 0.3\n",
    "a0= 0.0027\n",
    "a1= 0.07\n",
    "K_e= 8\n",
    "\n",
    "# IP3R Redox Parameters\n",
    "k_OX= 45\n",
    "k_RED= 0.024\n",
    "K_RED= 0.05\n",
    "g_max= 0.9\n",
    "G_OX= 0.05\n"
   ]
  },
  {
   "cell_type": "markdown",
   "id": "880d05b8-2053-4a04-b5b3-3d93a06238cc",
   "metadata": {},
   "source": [
    "# Surfaces, Volumes and Volumetric Ratios"
   ]
  },
  {
   "cell_type": "code",
   "execution_count": 5,
   "id": "1c6073ca-c01e-4b4e-b6d5-db1300a97b0f",
   "metadata": {},
   "outputs": [],
   "source": [
    "# Volumes\n",
    "V_B= 1000\n",
    "\n",
    "V_M= 4/3*np.pi*pw(R_Mit, 3)\n",
    "\n",
    "Tau_S= K_SODc/k_SODc\n",
    "R_eff= sqrt(D_S*Tau_S)+R_Mit\n",
    "V_N= 4/3*np.pi*pw(R_eff, 3)\n",
    "\n",
    "V_MAM= h_MAM*L_MAM*w_MAM\n",
    "\n",
    "# Surfaces and Distances for diffusion\n",
    "a_MAM= 2*(w_MAM*h_MAM) + 2*(w_MAM*L_MAM)\n",
    "l_MAM= np.min([h_MAM/2, L_MAM/2])\n",
    "\n",
    "a_ER= 2*2*pi()*pw(a, 2)\n",
    "l_ER= R_eff\n",
    "\n",
    "# Surfaces for Fluxe Ratios\n",
    "A_Mit_T= 4*pi()*pw(R_Mit, 2)\n",
    "A_ER_T= 2*pi()*a*2*l_ER\n",
    "A_MAM= h_MAM*L_MAM\n",
    "\n",
    "A_Mit= A_MAM/A_Mit_T\n",
    "A_ER= A_MAM/A_ER_T\n",
    "\n",
    "# Volumetric Ratios\n",
    "alpha= V_N/V_B\n",
    "beta= 5.5\n",
    "gama= V_N/V_M\n",
    "delta= V_N/V_MAM\n",
    "epsilon= 1.5"
   ]
  },
  {
   "cell_type": "markdown",
   "id": "b794e471-037a-436c-83e2-35bf3efe722a",
   "metadata": {},
   "source": [
    "# Diffusion Constants"
   ]
  },
  {
   "cell_type": "code",
   "execution_count": 6,
   "id": "ac28ed3c-af73-4651-bb55-788f8b0cf1bf",
   "metadata": {},
   "outputs": [],
   "source": [
    "# SuperOxide\n",
    "k_S_MAM_N= D_S*a_MAM/l_MAM/V_N\n",
    "k_S_B_N= 4*pi()*D_S/(1/R_Mit-1/+R_eff)/V_N\n",
    "\n",
    "# Calcium\n",
    "k_C_MAM_N= D_Ca*a_MAM/l_MAM/V_N\n",
    "k_C_B_N= 2*pi()*D_Ca*2*(R_eff)/ln(R_eff/a)/V_N\n",
    "k_Ce_B_N= D_Ca_e*a_ER*beta/l_ER/V_N\n"
   ]
  },
  {
   "cell_type": "markdown",
   "id": "7e2d294c",
   "metadata": {},
   "source": [
    "# Fluxes/Reactions"
   ]
  },
  {
   "cell_type": "code",
   "execution_count": 7,
   "id": "6dda9421",
   "metadata": {},
   "outputs": [],
   "source": [
    "# SuperOxide\n",
    "def J_shunt():\n",
    "        return k_shunt\n",
    "    \n",
    "def J_IMAC(S_X, S_M):\n",
    "    return k_IMAC*P_IMAC(S_X)*S_M\n",
    "\n",
    "def P_IMAC(S_X):\n",
    "    return 0.001+0.999*pw(S_X, h_IMAC)/(pw(S_X, h_IMAC)+pw(K_IMAC, h_IMAC))\n",
    "\n",
    "def J_SODm(S_M):\n",
    "    return k_SODm*S_M/(S_M+K_SODm)\n",
    "\n",
    "def J_SODc(S_X):\n",
    "    return k_SODc*S_X/(S_X+K_SODc)\n",
    "\n",
    "def J_S_MAM_N(S_MAM, S_N):\n",
    "    return k_S_MAM_N*(S_MAM-S_N)   \n",
    "\n",
    "def J_S_B_N(S_B, S_N):\n",
    "    return k_S_B_N*(S_B-S_N)\n",
    "\n",
    "\n",
    "# Mitochondria Potential\n",
    "def J_SiS():\n",
    "    return k_si_S\n",
    "\n",
    "def J_SiU(Si):\n",
    "    return k_si_U*Si\n",
    "\n",
    "def J_SiIMAC(S_X, Si):\n",
    "    return k_IMAC*P_IMAC(S_X)*Si\n",
    "\n",
    "# Calcium\n",
    "def J_IN(C_EB):\n",
    "    return a0 + a1*pw(K_e, 4)/(pw(K_e, 4)+pw(C_EB, 4))\n",
    "\n",
    "def J_OUT(C_B):\n",
    "    return V_OUT*pw(C_B, 2)/(pw(K_OUT, 2)+pw(C_B, 2))\n",
    "\n",
    "def J_MCU(C_X, Si):\n",
    "    return V_MCU*pw(C_X, 2)/(pw(K_MCU, 2) + pw(C_X, 2))*exp(P1*Si)\n",
    "\n",
    "def J_NCX(C_M, Si):\n",
    "    return V_NCX*C_M/(K_NCX + C_M)*exp(P2*Si)\n",
    "\n",
    "def J_C_B_N(C_B, C_N):\n",
    "    return k_C_B_N*(C_B-C_N)   \n",
    "\n",
    "def J_C_MAM_N(C_MAM, C_N):\n",
    "    return k_C_MAM_N*(C_MAM-C_N)      \n",
    "\n",
    "def J_Ce_B_N(Ce_B, Ce_N):\n",
    "    return k_Ce_B_N*(Ce_B-Ce_N)        \n",
    "\n",
    "def J_SERCA(C_X, Ce_X):\n",
    "    return V_SERCA*(pw(C_X, 2)-K_bar*pw(Ce_X, 2))/(pw(C_X, 2)+pw(K_SERCA, 2))\n",
    "\n",
    "def J_IP3R(OX_X, C_X, h_X, Ce_X):\n",
    "    RED_X= 1-OX_X\n",
    "    return k_f*P_o(RED_X, C_X, h_X)*(Ce_X-C_X)\n",
    "\n",
    "def P_o(OX_X, C_X, h_X):\n",
    "    RED_X= 1-OX_X\n",
    "    return B_p(RED_X, C_X, h_X)/(B_p(RED_X, C_X, h_X)+k_B*(B_p(RED_X, C_X, h_X)+a_p(RED_X, C_X)))\n",
    "\n",
    "def a_p(OX_X, C_X):\n",
    "    RED_X= 1-OX_X\n",
    "    return (1-B(RED_X))*(1-m_a(C_X)*h_a(C_X))\n",
    "\n",
    "def B_p(OX_X, C_X, h_X):\n",
    "    RED_X= 1-OX_X\n",
    "    return B(RED_X)*m_a(C_X)*h_X\n",
    "\n",
    "def m_a(C_X):\n",
    "    return pw(C_X, 4)/(pw(K_C, 4)+pw(C_X, 4))\n",
    "\n",
    "def h_a(C_X):\n",
    "    return pw(K_h, 4)/(pw(K_h, 4)+pw(C_X, 4))\n",
    "\n",
    "def B(OX_X):\n",
    "    RED_X= 1-OX_X\n",
    "    return pw(IP3, 2)/(pw(K_P(RED_X), 2)+pw(IP3, 2))\n",
    "\n",
    "def T_h(C_X):\n",
    "    return T_max*pw(K_T, 4)/(pw(K_T, 4)+pw(C_X, 4))\n",
    "\n",
    "## IP3R Redox\n",
    "def K_P(OX_X):\n",
    "    return K_P_RED*(1-g_max*OX_X/(OX_X+G_OX))\n",
    "\n",
    "def V_OX(S_X, OX_X):\n",
    "    RED_X= 1-OX_X\n",
    "    return k_OX*RED_X*S_X\n",
    "\n",
    "def V_RED(OX_X):\n",
    "    return k_RED*OX_X / (OX_X + K_RED)\n"
   ]
  },
  {
   "cell_type": "markdown",
   "id": "0d43cfb5",
   "metadata": {},
   "source": [
    "# Model Dynamics"
   ]
  },
  {
   "cell_type": "code",
   "execution_count": 8,
   "id": "cb2afe8f",
   "metadata": {},
   "outputs": [],
   "source": [
    "# System of ODEs\n",
    "def model(t, y):\n",
    "\n",
    "    S_M= y[0]\n",
    "    S_MAM= y[1]\n",
    "    S_N= y[2]\n",
    "    S_B= y[3]\n",
    "    Si= y[4]\n",
    "\n",
    "    C_B= y[5]\n",
    "    Ce_B= y[6]\n",
    "    C_N= y[7]\n",
    "    Ce_N= y[8]\n",
    "    C_MAM= y[9]\n",
    "    C_M= y[10]\n",
    "\n",
    "    h_B= y[11]\n",
    "    h_N= y[12]\n",
    "    h_MAM= y[13]\n",
    "\n",
    "    OX_B= y[14]\n",
    "    OX_N= y[15]\n",
    "    OX_MAM= y[16]\n",
    "\n",
    "\n",
    "    dS_M= J_shunt() - J_SODm(S_M) - gama*(1-A_Mit)*(J_IMAC(S_N, S_M)) - gama/delta*A_Mit*(J_IMAC(S_MAM, S_M))\n",
    "    dS_MAM= A_Mit*(J_IMAC(S_MAM, S_M)) - J_SODc(S_MAM) - delta*(J_S_MAM_N(S_MAM, S_N))\n",
    "    dS_N= (1-A_Mit)*(J_IMAC(S_N, S_M)) - J_SODc(S_N) + J_S_MAM_N(S_MAM, S_N) + J_S_B_N(S_B, S_N)\n",
    "    dS_B= -J_SODc(S_B) -alpha*(J_S_B_N(S_B, S_N))  \n",
    "    dSi= J_SiS() - J_SiU(Si) - (1-A_Mit)*J_SiIMAC(S_N, Si) - A_Mit*J_SiIMAC(S_MAM, Si)\n",
    "\n",
    "    dC_B= (1-A_ER)*J_IP3R(OX_B, C_B, h_B, Ce_B) - (1-A_ER)*J_SERCA(C_B, Ce_B) - alpha*(J_C_B_N(C_B, C_N)) + epsilon*(J_IN(Ce_B) - J_OUT(C_B))\n",
    "    dCe_B= beta*((1-A_ER)*J_SERCA(C_B, Ce_B) - (1-A_ER)*J_IP3R(OX_B, C_B, h_B, Ce_B)) - alpha*(J_Ce_B_N(Ce_B, Ce_N))\n",
    "    dC_N= (1-A_ER)*J_IP3R(OX_N, C_N, h_N, Ce_N) - (1-A_ER)*J_SERCA(C_N, Ce_N) + 1/gama*((1-A_Mit)*(J_NCX(C_M, Si)) - (1-A_Mit)*J_MCU(C_N, Si)) + J_C_MAM_N(C_MAM, C_N) + J_C_B_N(C_B, C_N)\n",
    "    dCe_N= beta*((1-A_ER)*J_SERCA(C_N, Ce_N) - (1-A_ER)*J_IP3R(OX_N, C_N, h_N, Ce_N)) + beta/delta*(A_ER*J_SERCA(C_MAM, Ce_N) - W_IP3R*A_ER*J_IP3R(OX_MAM, C_MAM, h_MAM, Ce_N)) + J_Ce_B_N(Ce_B, Ce_N)\n",
    "    dC_MAM= W_IP3R*A_ER*J_IP3R(OX_MAM, C_MAM, h_MAM, Ce_N) - A_ER*J_SERCA(C_MAM, Ce_N) + delta/gama*(A_Mit*(J_NCX(C_M, Si)) - W_MCU*A_Mit*J_MCU(C_MAM, Si)) - delta*(J_C_MAM_N(C_MAM, C_N))\n",
    "    dC_M= f_m*((1-A_Mit)*J_MCU(C_N, Si) + W_MCU*A_Mit*J_MCU(C_MAM, Si) - J_NCX(C_M, Si))\n",
    "\n",
    "    dh_B= (h_a(C_B)-h_B)/T_h(C_B)\n",
    "    dh_N= (h_a(C_N)-h_N)/T_h(C_N)\n",
    "    dh_MAM= (h_a(C_MAM)-h_MAM)/T_h(C_MAM)\n",
    "\n",
    "    dOX_B= V_OX(S_B, OX_B) - V_RED(OX_B)\n",
    "    dRED_N= V_OX(S_N, OX_N) - V_RED(OX_N)\n",
    "    dRED_MAM= V_OX(S_MAM, OX_MAM) - V_RED(OX_MAM)\n",
    "    \n",
    "    return [dS_M, dS_MAM, dS_N, dS_B, dSi, dC_B, dCe_B, dC_N, dCe_N, dC_MAM, dC_M, dh_B, dh_N, dh_MAM, dOX_B, dRED_N, dRED_MAM]\n"
   ]
  },
  {
   "cell_type": "markdown",
   "id": "e8c10f81",
   "metadata": {},
   "source": [
    "# Initial Condition"
   ]
  },
  {
   "cell_type": "code",
   "execution_count": 9,
   "id": "b126c858",
   "metadata": {},
   "outputs": [],
   "source": [
    "S_M0= 0.00001\n",
    "S_MAM0= 0.00001\n",
    "S_N0= 0.00001\n",
    "S_B0= 0.00001\n",
    "Si0= 157\n",
    "C_B0= 0.01\n",
    "Ce_B0= 13\n",
    "C_N0= 0.01\n",
    "Ce_N0= 13\n",
    "C_MAM0= 0.01\n",
    "C_M0= 0.01\n",
    "h_B0= 0.0001\n",
    "h_N0= 0.0001\n",
    "h_MAM0= 0.0001\n",
    "RED_B0= 0.99\n",
    "RED_N0= 0.99\n",
    "RED_MAM0= 0.99\n",
    "z0= (S_M0, S_MAM0, S_N0, S_B0, Si0, C_B0, Ce_B0, C_N0, Ce_N0, C_MAM0, C_M0, h_B0, h_N0, h_MAM0, RED_B0, RED_N0, RED_MAM0)"
   ]
  },
  {
   "cell_type": "markdown",
   "id": "b88f37ce",
   "metadata": {},
   "source": [
    "# Time Steps"
   ]
  },
  {
   "cell_type": "code",
   "execution_count": 10,
   "id": "0fefe70e",
   "metadata": {},
   "outputs": [],
   "source": [
    "Time= 300\n",
    "dt= 0.01\n",
    "t= np.linspace(0, Time, int((Time/dt)+1))\n",
    "t= np.around(t, decimals= 4)"
   ]
  },
  {
   "cell_type": "markdown",
   "id": "bb99798c",
   "metadata": {},
   "source": [
    "# Model Solution"
   ]
  },
  {
   "cell_type": "code",
   "execution_count": 11,
   "id": "b705cc35",
   "metadata": {},
   "outputs": [],
   "source": [
    "z= solve_ivp(model, (0, Time), z0, t_eval= t, method= 'Radau', rtol= 1e-8)"
   ]
  },
  {
   "cell_type": "markdown",
   "id": "6b0a8af0",
   "metadata": {},
   "source": [
    "# Plot Solution"
   ]
  },
  {
   "cell_type": "code",
   "execution_count": 27,
   "id": "4a21b653",
   "metadata": {},
   "outputs": [
    {
     "data": {
      "image/png": "[encoded data removed]",
      "text/plain": [
       "<Figure size 513x380 with 2 Axes>"
      ]
     },
     "metadata": {},
     "output_type": "display_data"
    }
   ],
   "source": [
    "ts= 212*100\n",
    "te= 282*100\n",
    "le= te-ts\n",
    "st= 0\n",
    "dt= 0.01\n",
    "en= (te-ts-1)*dt\n",
    "t= np.linspace(st, en, le)\n",
    "\n",
    "plt.rcParams['mathtext.default'] = 'regular'\n",
    "plt.rcParams['mathtext.fontset'] = 'stix'  \n",
    "plt.rcParams['axes.linewidth']= 1.7\n",
    "\n",
    "i= z.y[7]\n",
    "j= z.y[10]\n",
    "m= z.y[2]\n",
    "h= 3.8\n",
    "size= (h*1.35, h)\n",
    "fig, ax1 = plt.subplots(figsize=size)\n",
    "line1, =ax1.plot(t, i[ts:te], color= 'Green', label= r'Near Cytosol [Ca$^{+2}$]')\n",
    "ax1.set_ylabel(r'[Ca$^{+2}$] (μM)', fontsize=11.5, fontweight='bold')\n",
    "\n",
    "ax2= ax1.twinx()\n",
    "line3,= ax2.plot(t, m[ts:te], color= 'Red', linestyle= '--', label= r'Near Cytosol [$O_2^{-}$]')\n",
    "ax2.set_ylabel(r'[$O_2^{-}$] (mM)', fontsize=11.5, fontweight='bold')\n",
    "ax2.tick_params(axis='y', labelcolor='r')\n",
    "\n",
    "ax1.spines[['top',]].set_visible(False)\n",
    "ax2.spines[['top',]].set_visible(False)\n",
    "ax1.tick_params(axis='both', which='major', labelsize=11, width=1.7, length=7)\n",
    "ax2.tick_params(axis='both', which='major', labelsize=11, width=1.7, length=7)\n",
    "ax1.set_xlabel(r'Time (s)', fontsize=11.5, fontweight='bold')\n",
    "\n",
    "plt.savefig('Simulation_Output.png', dpi= 300, bbox_inches= 'tight')\n",
    "plt.show()"
   ]
  }
 ],
 "metadata": {
  "kernelspec": {
   "display_name": ".venv",
   "language": "python",
   "name": "python3"
  },
  "language_info": {
   "codemirror_mode": {
    "name": "ipython",
    "version": 3
   },
   "file_extension": ".py",
   "mimetype": "text/x-python",
   "name": "python",
   "nbconvert_exporter": "python",
   "pygments_lexer": "ipython3",
   "version": "3.12.5"
  }
 },
 "nbformat": 4,
 "nbformat_minor": 5
}
